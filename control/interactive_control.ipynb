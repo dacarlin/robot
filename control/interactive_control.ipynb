{
 "cells": [
  {
   "cell_type": "code",
   "execution_count": 41,
   "metadata": {
    "collapsed": false
   },
   "outputs": [
    {
     "name": "stdout",
     "output_type": "stream",
     "text": [
      "\u001b[34m\u001b[43m/dev/tty.Bluetooth-Incoming-Port\u001b[m\u001b[m \u001b[34m\u001b[43m/dev/tty.usbserial-DA010POJ\u001b[m\u001b[m\r\n"
     ]
    }
   ],
   "source": [
    "! ls /dev/tty.*"
   ]
  },
  {
   "cell_type": "code",
   "execution_count": 45,
   "metadata": {
    "collapsed": false
   },
   "outputs": [],
   "source": [
    "#! touch header.gcode body.gcode footer.gcode\n",
    "#! echo '{\"gc\":\"g1 z-200 f100\"}' > body.gcode\n",
    "! echo '{\"gc\":\"G28.2 Z0\"}' > body.gcode\n",
    "! echo '{\"gc\":\"G1 Z100\"}' >> body.gcode\n",
    "! cat my_settings.json body.gcode footer.gcode > run.gcode "
   ]
  },
  {
   "cell_type": "code",
   "execution_count": 46,
   "metadata": {
    "collapsed": false
   },
   "outputs": [
    {
     "name": "stdout",
     "output_type": "stream",
     "text": [
      "{\"z\":{\"am\":1,\"vm\":200,\"fr\":200,\"tm\":150,\"jm\":600000000,\"jh\":400000000,\"jd\":0.0100,\"sn\":1,\"sx\":0,\"sv\":200,\"lv\":150,\"lb\":5.000,\"zb\":0.000}}\r\n",
      "{\"gc\":\"G28.2 Z0\"}\r\n",
      "{\"gc\":\"G1 Z100\"}\r\n"
     ]
    }
   ],
   "source": [
    "! cat run.gcode"
   ]
  },
  {
   "cell_type": "markdown",
   "metadata": {},
   "source": [
    "From this wiki page https://github.com/synthetos/TinyG/wiki/JSON-Details\n",
    "\n",
    "`\"f\":[<protocol_version>, <status_code>, <input_available>, <checksum>]`"
   ]
  },
  {
   "cell_type": "code",
   "execution_count": 47,
   "metadata": {
    "collapsed": false,
    "scrolled": false
   },
   "outputs": [
    {
     "name": "stdout",
     "output_type": "stream",
     "text": [
      "{\n",
      "  \"r\": {\n",
      "    \"z\": {\n",
      "      \"fr\": 200, \n",
      "      \"sx\": 0, \n",
      "      \"lb\": 5.0, \n",
      "      \"am\": 1, \n",
      "      \"vm\": 200, \n",
      "      \"zb\": 0.0, \n",
      "      \"sv\": 200, \n",
      "      \"lv\": 150, \n",
      "      \"jm\": 600, \n",
      "      \"tm\": 150.0, \n",
      "      \"jh\": 400, \n",
      "      \"sn\": 1, \n",
      "      \"jd\": 0.01\n",
      "    }\n",
      "  }, \n",
      "  \"f\": [\n",
      "    1, \n",
      "    0, \n",
      "    138, \n",
      "    4227\n",
      "  ]\n",
      "}\n",
      "{\n",
      "  \"r\": {\n",
      "    \"gc\": \"G28.2Z0\"\n",
      "  }, \n",
      "  \"f\": [\n",
      "    1, \n",
      "    0, \n",
      "    18, \n",
      "    8130\n",
      "  ]\n",
      "}\n",
      "{\n",
      "  \"sr\": {\n",
      "    \"coor\": 0, \n",
      "    \"stat\": 9, \n",
      "    \"dist\": 1\n",
      "  }\n",
      "}\n"
     ]
    }
   ],
   "source": [
    "import serial\n",
    "import time\n",
    "import json \n",
    " \n",
    "# Open grbl serial port\n",
    "s = serial.Serial( port='/dev/tty.usbserial-DA010POJ', baudrate=115200 ) # copied from above \n",
    " \n",
    "# Open g-code file\n",
    "with open( 'run.gcode','r' ) as f:\n",
    "\n",
    "    # Wake up grbl\n",
    "    s.write(\"\\r\\n\\r\\n\")\n",
    "    time.sleep(2)   # Wait for grbl to initialize\n",
    "    s.flushInput()  # Flush startup text in serial input\n",
    "\n",
    "    # Stream g-code to grbl\n",
    "    for line in f:\n",
    "        l = line.strip() # Strip all EOL characters for streaming\n",
    "        #print 'Sending:' + l\n",
    "        s.write(l + '\\n') # Send g-code block to grbl\n",
    "        raw_out = s.readline() # Wait for grbl response with carriage return\n",
    "        #print 'Raw out:', raw_out \n",
    "        json_out = json.loads( raw_out )\n",
    "        print json.dumps( json_out, indent=2 )\n",
    "\n",
    "# Close file and serial port\n",
    "s.close()"
   ]
  },
  {
   "cell_type": "code",
   "execution_count": null,
   "metadata": {
    "collapsed": true
   },
   "outputs": [],
   "source": []
  },
  {
   "cell_type": "code",
   "execution_count": null,
   "metadata": {
    "collapsed": true
   },
   "outputs": [],
   "source": []
  }
 ],
 "metadata": {
  "kernelspec": {
   "display_name": "Python 2",
   "language": "python",
   "name": "python2"
  },
  "language_info": {
   "codemirror_mode": {
    "name": "ipython",
    "version": 2
   },
   "file_extension": ".py",
   "mimetype": "text/x-python",
   "name": "python",
   "nbconvert_exporter": "python",
   "pygments_lexer": "ipython2",
   "version": "2.7.11"
  }
 },
 "nbformat": 4,
 "nbformat_minor": 0
}
