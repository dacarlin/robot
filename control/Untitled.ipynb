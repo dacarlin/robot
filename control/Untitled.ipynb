{
 "cells": [
  {
   "cell_type": "code",
   "execution_count": 10,
   "metadata": {
    "collapsed": false
   },
   "outputs": [
    {
     "name": "stdout",
     "output_type": "stream",
     "text": [
      "{\n",
      "  \"refs\": {\n",
      "    \"plate2\": {\n",
      "      \"new\": \"96-deep\", \n",
      "      \"discard\": true\n",
      "    }, \n",
      "    \"plate1\": {\n",
      "      \"new\": \"96-deep\", \n",
      "      \"discard\": true\n",
      "    }\n",
      "  }, \n",
      "  \"instructions\": [\n",
      "    {\n",
      "      \"groups\": [\n",
      "        {\n",
      "          \"transfer\": [\n",
      "            {\n",
      "              \"volume\": \"10.0:microliter\", \n",
      "              \"to\": \"plate2/0\", \n",
      "              \"from\": \"plate1/0\"\n",
      "            }\n",
      "          ]\n",
      "        }\n",
      "      ], \n",
      "      \"op\": \"pipette\"\n",
      "    }\n",
      "  ]\n",
      "}\n"
     ]
    }
   ],
   "source": [
    "from autoprotocol import Protocol\n",
    "\n",
    "p = Protocol()\n",
    "\n",
    "plate1 = p.ref( 'plate1', cont_type='96-deep', discard=True ) \n",
    "plate2 = p.ref( 'plate2', cont_type='96-deep', discard=True ) \n",
    "\n",
    "plate1.well(0).set_volume( '100:microliter' )\n",
    "\n",
    "p.transfer( plate1.well(0), plate2.well(0), '10:microliter' )\n",
    "\n",
    "import json\n",
    "print json.dumps( p.as_dict(), indent=2 )"
   ]
  },
  {
   "cell_type": "code",
   "execution_count": 21,
   "metadata": {
    "collapsed": false
   },
   "outputs": [
    {
     "name": "stdout",
     "output_type": "stream",
     "text": [
      "place plate plate2 with {'new': '96-deep', 'discard': True} at index 0 with xy coords 0.000000, 0.000000\n",
      "place plate plate1 with {'new': '96-deep', 'discard': True} at index 1 with xy coords 69.000000, 69.000000\n"
     ]
    }
   ],
   "source": [
    "# handle refs \n",
    "d = p.as_dict()\n",
    "for index, plate in enumerate( d['refs'] ):\n",
    "    print 'place plate %s with %s at index %d with xy coords %f, %f' % ( plate, d['refs'][ plate ], index, 69*index, 69*index ) "
   ]
  },
  {
   "cell_type": "code",
   "execution_count": 28,
   "metadata": {
    "collapsed": false
   },
   "outputs": [
    {
     "name": "stdout",
     "output_type": "stream",
     "text": [
      "{'volume': '10.0:microliter', 'to': 'plate2/0', 'from': 'plate1/0'}\n"
     ]
    }
   ],
   "source": [
    "# compile autoprotocol to gcode \n",
    "for instruction in p.as_dict()['instructions']:\n",
    "    #print instruction\n",
    "    for group in instruction['groups']:\n",
    "        #print group\n",
    "        for transfer in group['transfer']:\n",
    "            print transfer"
   ]
  },
  {
   "cell_type": "code",
   "execution_count": null,
   "metadata": {
    "collapsed": true
   },
   "outputs": [],
   "source": []
  }
 ],
 "metadata": {
  "kernelspec": {
   "display_name": "Python 2",
   "language": "python",
   "name": "python2"
  },
  "language_info": {
   "codemirror_mode": {
    "name": "ipython",
    "version": 2
   },
   "file_extension": ".py",
   "mimetype": "text/x-python",
   "name": "python",
   "nbconvert_exporter": "python",
   "pygments_lexer": "ipython2",
   "version": "2.7.10"
  }
 },
 "nbformat": 4,
 "nbformat_minor": 0
}
